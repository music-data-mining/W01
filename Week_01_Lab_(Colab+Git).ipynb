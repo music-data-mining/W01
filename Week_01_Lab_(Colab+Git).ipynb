{
  "nbformat": 4,
  "nbformat_minor": 0,
  "metadata": {
    "colab": {
      "name": "Week 01 Lab (Colab+Git).ipynb",
      "provenance": [],
      "include_colab_link": true
    },
    "kernelspec": {
      "name": "python3",
      "display_name": "Python 3"
    }
  },
  "cells": [
    {
      "cell_type": "markdown",
      "metadata": {
        "id": "view-in-github",
        "colab_type": "text"
      },
      "source": [
        "<a href=\"https://colab.research.google.com/github/music-data-mining/W01/blob/master/Week_01_Lab_(Colab%2BGit).ipynb\" target=\"_parent\"><img src=\"https://colab.research.google.com/assets/colab-badge.svg\" alt=\"Open In Colab\"/></a>"
      ]
    },
    {
      "cell_type": "markdown",
      "metadata": {
        "id": "jl_tz5uVbYo6"
      },
      "source": [
        "# Week 01 Lab. Setting up your development environment"
      ]
    },
    {
      "cell_type": "markdown",
      "metadata": {
        "id": "8j24YZaFbml0"
      },
      "source": [
        "- Course: Z604 Music Data Mining\n",
        "- Instructor: Kahyun Choi"
      ]
    },
    {
      "cell_type": "markdown",
      "metadata": {
        "id": "IpNlhtnAally"
      },
      "source": [
        "### Instructions\n",
        "\n",
        "\n",
        "\n",
        "* The purpose of this lab task is to help you set up your development environment.\n",
        "* For your labs, assignments, and project, you will use Google Colab (a free Jupyter notebook environment that runs in the cloud) and Github.\n",
        "Download this week's lab notebook\n",
        "* The lab task has the following three steps:\n",
        "  * Step 0: Log in to Google Drive and Create a Directory\n",
        "  * Step 1. Play with a Colab notebook\n",
        "  * Step 2. Probe the handson-ml2 repository on with git and GitHub\n",
        "  * Step 3. Open and play with tools_numpy.ipynb in a new Colab runtime\n",
        "* No submission\n",
        "\n",
        "\n",
        "\n",
        "\n",
        "\n"
      ]
    },
    {
      "cell_type": "markdown",
      "source": [
        "## Step 0: Log in to Google Drive and Create a Directory\n",
        "\n",
        "1. **Access Google Drive**:\n",
        "    - Open your browser.\n",
        "    - Log in to your [Google Drive](https://drive.google.com/).\n",
        "\n",
        "2. **Create a Class Folder**:\n",
        "    - Under the \"Colab Notebooks\" folder, create a directory named \"MDM2023\".\n",
        "    - This directory will be used to store all course-related files."
      ],
      "metadata": {
        "id": "LO7ZGPFFeeKU"
      }
    },
    {
      "cell_type": "markdown",
      "metadata": {
        "id": "VRuG0Gi2b3Ey"
      },
      "source": [
        "## Step 1. Play with a [Colab notebook](https://colab.research.google.com/)\n",
        "In your browser and play with it briefly."
      ]
    },
    {
      "cell_type": "markdown",
      "source": [
        "### What are Jupyter notebook and Colab? why we need them in our course?\n",
        "A Jupyter notebook (.ipynb) is an interactive development interface allows easy use of Python. It also supports [Markdown language](https://www.markdownguide.org/cheat-sheet/) for better documenting.\n",
        "Colab is a Google service *hosting* the jupyter notebooks online, like their web search or Docs, and requires utilizing Google Drive. So if you'd like to use Colab as a development environment, the first thing you'll have to do is [sign up for a Google Drive account](https://www.google.com/drive/).\n",
        "\n",
        "Due to the 'notebook' nature, Colab-hosted Jupyter notebooks are very useful for exploratory data analysis, data-driven report generation, and pedagogical purposes. We'll be using Colab throughout the semester.\n",
        "\n",
        "If you are not comfortable using Google's online service (like Colab), you can download and use the course's Jupyter notebooks offline. Follow [the tutorial](https://www.dataquest.io/blog/jupyter-notebook-tutorial/) for more details.\n"
      ],
      "metadata": {
        "id": "RXO29pIiYxbg"
      }
    },
    {
      "cell_type": "markdown",
      "metadata": {
        "id": "iG-ZoBbyb8pm"
      },
      "source": [
        "### Tips: Where to find lab and assignment notebooks for the week?\n",
        "\n",
        "1. **Google Drive Access**:\n",
        "    - Open your browser.\n",
        "    - Log in to your [Google Drive](https://drive.google.com/).\n",
        "\n",
        "2. **Navigate to Google Colab's GitHub Section**:\n",
        "    - Go to [Colab's GitHub Page](https://colab.research.google.com/github/).\n",
        "\n",
        "3. **Find the Notebook**:\n",
        "    - In the search bar, type `music-data-mining`.\n",
        "    - In the 'Repository' dropdown menu, select the relevant week.\n",
        "        * Example: By selecting `music-data-mining/W02`, you'll find:\n",
        "            - `Week_02_Audio_Content_Analysis_Lab.ipynb`\n",
        "            - `Week_02_Audio_Content_Analysis_Assignment.ipynb`\n",
        "\n",
        "4. **Open and Save the Notebook**:\n",
        "    - Click on the 'Open notebook in a new tab' button to access the notebook.\n",
        "    - Once it's open, save it to your 'MDM2023' directory in Google Drive.\n",
        "    - Begin working on your notebook!\n",
        "\n",
        "<!-- Take W02 lab notebook as an example, you can open it by navigating through Canvas in the following procedure:\n",
        "FA22-BL-ILS-Z604-34487 → Assignments → Lab and Assignment (Week 02) → Lab notebook: https://colab.research.google.com/github/music-data-mining/W02/blob/master/Week_02_Audio_Content_Analysis_Lab.ipynb -->"
      ]
    },
    {
      "cell_type": "markdown",
      "source": [
        "## Step 2. Play with the `handson-ml2` repository"
      ],
      "metadata": {
        "id": "tjka8V9DHFpT"
      }
    },
    {
      "cell_type": "markdown",
      "source": [
        "We will be using the textbook *Hands-on Machine Learning with Scikit-Learn, Keras and TensorFlow* in the course.\n",
        "You can take a look at the GitHub repository for the textbook at [https://github.com/ageron/handson-ml2](https://github.com/ageron/handson-ml2)."
      ],
      "metadata": {
        "id": "U6v9C-IHbfJv"
      }
    },
    {
      "cell_type": "markdown",
      "source": [
        "### Tips: What are git, git clone, and GitHub?\n",
        "Git is a version control software. That said, it helps programmers keep track of latest versions of some binary, e.g., a Jupyter notebook.\n",
        "`git clone` is a command of git software. Among other useful git commands, `git clone` will be more frequently used in our course. `git clone` helps you copy (or *clone*) the latest repository from some external resources.\n",
        "We happen to rely on *GitHub* as the external resource. GitHub is an online service running git under the hood and has other useful features as well."
      ],
      "metadata": {
        "id": "Ui9HbwH2dXkG"
      }
    },
    {
      "cell_type": "code",
      "source": [
        "# the below command will help you download the repository in https://github.com/ageron/handson-ml2\n",
        "# when you run a `git` command in Colab, remember to add a `!` before it\n",
        "# there is no space between `!` and `git clone`\n",
        "\n",
        "!git clone https://github.com/ageron/handson-ml2"
      ],
      "metadata": {
        "colab": {
          "base_uri": "https://localhost:8080/"
        },
        "id": "4hosTcyIHZ0W",
        "outputId": "54502c9e-b501-424e-afec-cd7dc74bd01c"
      },
      "execution_count": null,
      "outputs": [
        {
          "output_type": "stream",
          "name": "stdout",
          "text": [
            "Cloning into 'handson-ml2'...\n",
            "remote: Enumerating objects: 3081, done.\u001b[K\n",
            "remote: Total 3081 (delta 0), reused 0 (delta 0), pack-reused 3081\u001b[K\n",
            "Receiving objects: 100% (3081/3081), 150.37 MiB | 11.92 MiB/s, done.\n",
            "Resolving deltas: 100% (1896/1896), done.\n"
          ]
        }
      ]
    },
    {
      "cell_type": "code",
      "source": [
        "# if you meet error message like \"fatal: destination path 'handson-ml2' already exists and is not an empty directory.\"\n",
        "# uncomment (aka. remove the `#` sign before the code) the code below and rerun the code above\n",
        "# when you run commands other than git commands in Colab, remember to add a % before it.\n",
        "# also there is no space between % and command lines.\n",
        "\n",
        "# %rm -fr handson-ml2/  # this line of code remove the exsiting `handson-ml2` folder in case you run `git clone` more than once in a runtime"
      ],
      "metadata": {
        "id": "YZkhoGE4HE1x"
      },
      "execution_count": null,
      "outputs": []
    },
    {
      "cell_type": "code",
      "source": [
        "# print out the directory we are in\n",
        "%pwd"
      ],
      "metadata": {
        "colab": {
          "base_uri": "https://localhost:8080/",
          "height": 35
        },
        "id": "dfCAyrI4hzJI",
        "outputId": "e64c9bca-4b22-472a-d06a-b7ec7497d9c2"
      },
      "execution_count": null,
      "outputs": [
        {
          "output_type": "execute_result",
          "data": {
            "text/plain": [
              "'/content'"
            ],
            "application/vnd.google.colaboratory.intrinsic+json": {
              "type": "string"
            }
          },
          "metadata": {},
          "execution_count": 3
        }
      ]
    },
    {
      "cell_type": "markdown",
      "source": [
        "Now you should be able to to see a file icon on the left, something like\n",
        "the picture below. And we are now in the `content` folder, the default folder every time you start a new Colab runtime. You can eyball all the files we just cloned from GitHub.\n",
        "\n",
        "<img src=\"https://drive.google.com/uc?id=1EvOfun2hJCptz2mWiSg2bUEI-pcgypLU\" width=300>"
      ],
      "metadata": {
        "id": "-MhO-PO-nONl"
      }
    },
    {
      "cell_type": "code",
      "source": [
        "# check the folders in the current directory\n",
        "%ls"
      ],
      "metadata": {
        "colab": {
          "base_uri": "https://localhost:8080/"
        },
        "id": "lwoc6i3shrOV",
        "outputId": "a20b2ef8-0115-4fb8-9b71-ace97f7bb216"
      },
      "execution_count": null,
      "outputs": [
        {
          "output_type": "stream",
          "name": "stdout",
          "text": [
            "\u001b[0m\u001b[01;34mhandson-ml2\u001b[0m/\n"
          ]
        }
      ]
    },
    {
      "cell_type": "code",
      "source": [
        "# change directory to the handson-ml2 we just cloned from GitHub\n",
        "%cd 'handson-ml2'\n",
        "# and see what files are there\n",
        "%ls"
      ],
      "metadata": {
        "colab": {
          "base_uri": "https://localhost:8080/"
        },
        "id": "xtz5Jtxoqo9J",
        "outputId": "fb1943f4-9c8e-4c60-eea6-df9228e1aa8b"
      },
      "execution_count": null,
      "outputs": [
        {
          "output_type": "stream",
          "name": "stdout",
          "text": [
            "/content/handson-ml2\n",
            "01_the_machine_learning_landscape.ipynb\n",
            "02_end_to_end_machine_learning_project.ipynb\n",
            "03_classification.ipynb\n",
            "04_training_linear_models.ipynb\n",
            "05_support_vector_machines.ipynb\n",
            "06_decision_trees.ipynb\n",
            "07_ensemble_learning_and_random_forests.ipynb\n",
            "08_dimensionality_reduction.ipynb\n",
            "09_unsupervised_learning.ipynb\n",
            "10_neural_nets_with_keras.ipynb\n",
            "11_training_deep_neural_networks.ipynb\n",
            "12_custom_models_and_training_with_tensorflow.ipynb\n",
            "13_loading_and_preprocessing_data.ipynb\n",
            "14_deep_computer_vision_with_cnns.ipynb\n",
            "15_processing_sequences_using_rnns_and_cnns.ipynb\n",
            "16_nlp_with_rnns_and_attention.ipynb\n",
            "17_autoencoders_and_gans.ipynb\n",
            "18_reinforcement_learning.ipynb\n",
            "19_training_and_deploying_at_scale.ipynb\n",
            "apt.txt\n",
            "book_equations.pdf\n",
            "changes_in_2nd_edition.md\n",
            "\u001b[0m\u001b[01;34mdatasets\u001b[0m/\n",
            "\u001b[01;34mdocker\u001b[0m/\n",
            "environment.yml\n",
            "extra_autodiff.ipynb\n",
            "extra_gradient_descent_comparison.ipynb\n",
            "\u001b[01;34mimages\u001b[0m/\n",
            "index.ipynb\n",
            "INSTALL.md\n",
            "LICENSE\n",
            "math_differential_calculus.ipynb\n",
            "math_linear_algebra.ipynb\n",
            "ml-project-checklist.md\n",
            "README.md\n",
            "requirements.txt\n",
            "tools_matplotlib.ipynb\n",
            "tools_numpy.ipynb\n",
            "tools_pandas.ipynb\n"
          ]
        }
      ]
    },
    {
      "cell_type": "markdown",
      "metadata": {
        "id": "8y3w60G2jkKg"
      },
      "source": [
        "## Step 3. Open and play with tools_numpy.ipynb in a new Colab runtime\n",
        "\n"
      ]
    },
    {
      "cell_type": "markdown",
      "source": [
        "Open the `tools_numpy.ipynb` file located in the `handson-ml2/` directory. Then, run some code to check if your development environment is set up correctly."
      ],
      "metadata": {
        "id": "e9WB932ntdQK"
      }
    }
  ]
}